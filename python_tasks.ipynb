{
  "nbformat": 4,
  "nbformat_minor": 0,
  "metadata": {
    "colab": {
      "provenance": []
    },
    "kernelspec": {
      "name": "python3",
      "display_name": "Python 3"
    },
    "language_info": {
      "name": "python"
    }
  },
  "cells": [
    {
      "cell_type": "code",
      "execution_count": 1,
      "metadata": {
        "colab": {
          "base_uri": "https://localhost:8080/"
        },
        "id": "nC_f6tdGayLB",
        "outputId": "a424d15e-d883-43fc-b229-9c1caab6f5b6"
      },
      "outputs": [
        {
          "output_type": "stream",
          "name": "stdout",
          "text": [
            "hello, world\n"
          ]
        }
      ],
      "source": [
        "print(\"hello, world\")"
      ]
    },
    {
      "cell_type": "code",
      "source": [],
      "metadata": {
        "id": "ziJlc7s7lGQ7"
      },
      "execution_count": null,
      "outputs": []
    },
    {
      "cell_type": "code",
      "source": [
        "a= 10\n",
        "b= 25\n",
        "#addition\n",
        "c= a + b\n",
        "print(\"the sum of two mumber is \",c)"
      ],
      "metadata": {
        "colab": {
          "base_uri": "https://localhost:8080/"
        },
        "id": "BsEyCGCwbgDr",
        "outputId": "3fc88805-05be-47c2-88f4-7a8fb955767f"
      },
      "execution_count": 6,
      "outputs": [
        {
          "output_type": "stream",
          "name": "stdout",
          "text": [
            "the sum of two mumber is  35\n"
          ]
        }
      ]
    },
    {
      "cell_type": "code",
      "source": [
        "j=float(input(\"enter first number \"))\n",
        "k=float(input(\"enter second number \"))\n",
        "l=j*k\n",
        "print(\"the product of two number \",l)"
      ],
      "metadata": {
        "colab": {
          "base_uri": "https://localhost:8080/"
        },
        "id": "fVVLKq-sicRw",
        "outputId": "0eb8634b-6c64-4a73-bdb6-7fa052b088bf"
      },
      "execution_count": 10,
      "outputs": [
        {
          "output_type": "stream",
          "name": "stdout",
          "text": [
            "enter first number 822\n",
            "enter second number 355.55\n",
            "the product of two number  292262.10000000003\n"
          ]
        }
      ]
    },
    {
      "cell_type": "code",
      "source": [
        "m=38\n",
        "n=2\n",
        "#division\n",
        "o=m/n\n",
        "print(\"the division of two number \",o)"
      ],
      "metadata": {
        "colab": {
          "base_uri": "https://localhost:8080/"
        },
        "id": "fan4E-Y7jj4I",
        "outputId": "c6673a4a-d743-48cf-d786-2572b0de38dd"
      },
      "execution_count": 11,
      "outputs": [
        {
          "output_type": "stream",
          "name": "stdout",
          "text": [
            "the division of two number  19.0\n"
          ]
        }
      ]
    },
    {
      "cell_type": "code",
      "source": [
        "r=45\n",
        "s=85\n",
        "#subtraction\n",
        "t=r-s\n",
        "print(\"the subtraction of two number \",t)"
      ],
      "metadata": {
        "colab": {
          "base_uri": "https://localhost:8080/"
        },
        "id": "1hy3NyUikdE-",
        "outputId": "81d0b0e7-ba2b-4eec-94fa-b215db6501cf"
      },
      "execution_count": 12,
      "outputs": [
        {
          "output_type": "stream",
          "name": "stdout",
          "text": [
            "the subtraction of two number  -40\n"
          ]
        }
      ]
    }
  ]
}